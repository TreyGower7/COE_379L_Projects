{
 "cells": [
  {
   "cell_type": "code",
   "execution_count": 1,
   "id": "cae78bf6-bd91-4dde-b41b-21f38353d49b",
   "metadata": {},
   "outputs": [],
   "source": [
    "#Data Prep Stage\n",
    "import numpy as np\n",
    "import shutil\n"
   ]
  },
  {
   "cell_type": "code",
   "execution_count": 2,
   "id": "659b7778-d2fe-4a15-9094-d5d459f67574",
   "metadata": {},
   "outputs": [],
   "source": [
    "#make sure the directory is clean \n",
    "try:\n",
    "    shutil.rmtree(\"../Project3_data/cnn-split/train\")\n",
    "    shutil.rmtree(\"../Project3_data/cnn-split/test\")\n",
    "except:\n",
    "    pass"
   ]
  },
  {
   "cell_type": "code",
   "execution_count": 3,
   "id": "95aef040-7205-45c1-9824-d975b45db7eb",
   "metadata": {},
   "outputs": [],
   "source": [
    "#create directories for each class in the train and test directories.\n",
    "import os\n",
    "# ensure directories exist\n",
    "from pathlib import Path\n",
    "\n",
    "\n",
    "Path(\"../data/cnn-split/train/no_damage\").mkdir(parents=True, exist_ok=True)\n",
    "Path(\"../data/cnn-split/train/damage\").mkdir(parents=True, exist_ok=True)\n",
    "\n",
    "Path(\"../data/cnn-split/test/no_damage\").mkdir(parents=True, exist_ok=True)\n",
    "Path(\"../data/cnn-split/test/damage\").mkdir(parents=True, exist_ok=True)"
   ]
  },
  {
   "cell_type": "code",
   "execution_count": 7,
   "id": "9f9ffdd2-4b90-4582-9c76-4de973c6a411",
   "metadata": {},
   "outputs": [
    {
     "ename": "NotADirectoryError",
     "evalue": "[Errno 20] Not a directory: 'no_damage'",
     "output_type": "error",
     "traceback": [
      "\u001b[0;31m---------------------------------------------------------------------------\u001b[0m",
      "\u001b[0;31mNotADirectoryError\u001b[0m                        Traceback (most recent call last)",
      "Cell \u001b[0;32mIn[7], line 1\u001b[0m\n\u001b[0;32m----> 1\u001b[0m all_no_damage \u001b[38;5;241m=\u001b[39m \u001b[43mos\u001b[49m\u001b[38;5;241;43m.\u001b[39;49m\u001b[43mlistdir\u001b[49m\u001b[43m(\u001b[49m\u001b[38;5;124;43m'\u001b[39;49m\u001b[38;5;124;43mno_damage\u001b[39;49m\u001b[38;5;124;43m'\u001b[39;49m\u001b[43m)\u001b[49m\n\u001b[1;32m      2\u001b[0m all_damage \u001b[38;5;241m=\u001b[39m os\u001b[38;5;241m.\u001b[39mlistdir(\u001b[38;5;124m'\u001b[39m\u001b[38;5;124mdamage\u001b[39m\u001b[38;5;124m'\u001b[39m)\n",
      "\u001b[0;31mNotADirectoryError\u001b[0m: [Errno 20] Not a directory: 'no_damage'"
     ]
    }
   ],
   "source": [
    "all_no_damage = os.listdir('../no_damage')\n",
    "all_damage = os.listdir('../damage')"
   ]
  },
  {
   "cell_type": "code",
   "execution_count": 6,
   "id": "c28c1653-2f85-4cb9-98d3-453b1879b702",
   "metadata": {},
   "outputs": [
    {
     "ename": "NameError",
     "evalue": "name 'all_no_damage' is not defined",
     "output_type": "error",
     "traceback": [
      "\u001b[0;31m---------------------------------------------------------------------------\u001b[0m",
      "\u001b[0;31mNameError\u001b[0m                                 Traceback (most recent call last)",
      "Cell \u001b[0;32mIn[6], line 3\u001b[0m\n\u001b[1;32m      1\u001b[0m \u001b[38;5;28;01mimport\u001b[39;00m \u001b[38;5;21;01mrandom\u001b[39;00m\n\u001b[0;32m----> 3\u001b[0m train_no_damage \u001b[38;5;241m=\u001b[39m random\u001b[38;5;241m.\u001b[39msample(\u001b[43mall_no_damage\u001b[49m, \u001b[38;5;28mint\u001b[39m(\u001b[38;5;28mlen\u001b[39m(all_no_damage)\u001b[38;5;241m*\u001b[39m\u001b[38;5;241m0.8\u001b[39m))\n\u001b[1;32m      4\u001b[0m \u001b[38;5;28mprint\u001b[39m(\u001b[38;5;124m\"\u001b[39m\u001b[38;5;124mtrain no_damage image count: \u001b[39m\u001b[38;5;124m\"\u001b[39m, \u001b[38;5;28mlen\u001b[39m(train_no_damage))\n\u001b[1;32m      5\u001b[0m test_no_damage \u001b[38;5;241m=\u001b[39m [ p \u001b[38;5;28;01mfor\u001b[39;00m p \u001b[38;5;129;01min\u001b[39;00m all_no_damage \u001b[38;5;28;01mif\u001b[39;00m p \u001b[38;5;129;01mnot\u001b[39;00m \u001b[38;5;129;01min\u001b[39;00m train_no_damage]\n",
      "\u001b[0;31mNameError\u001b[0m: name 'all_no_damage' is not defined"
     ]
    }
   ],
   "source": [
    "import random\n",
    "\n",
    "train_no_damage = random.sample(all_no_damage, int(len(all_no_damage)*0.8))\n",
    "print(\"train no_damage image count: \", len(train_no_damage))\n",
    "test_no_damage = [ p for p in all_no_damage if p not in train_no_damage]\n",
    "print(\"test no_damage image count: \", len(test_no_damage))\n",
    "# ensure no overlap:\n",
    "overlap = [p for p in train_no_damage if p in test_no_damage]\n",
    "print(\"len of overlap: \", len(overlap))\n",
    "\n",
    "\n",
    "train_damage = random.sample(all_damage, int(len(all_damage)*0.8))\n",
    "print(\"train damage image count: \", len(train_damage))\n",
    "test_damage = [ p for p in all_damage if p not in train_damage]\n",
    "print(\"test damage image count: \", len(test_damage))\n",
    "# ensure no overlap:\n",
    "overlap = [p for p in train_damage if p in test_damage]\n",
    "print(\"len of overlap: \", len(overlap))"
   ]
  },
  {
   "cell_type": "code",
   "execution_count": null,
   "id": "583f06de-ab8b-4166-b517-f1ff8db22070",
   "metadata": {},
   "outputs": [],
   "source": []
  },
  {
   "cell_type": "code",
   "execution_count": null,
   "id": "4dd77a24-64a4-4f90-b0ed-003cb4403941",
   "metadata": {},
   "outputs": [],
   "source": []
  }
 ],
 "metadata": {
  "kernelspec": {
   "display_name": "Python 3 (ipykernel)",
   "language": "python",
   "name": "python3"
  },
  "language_info": {
   "codemirror_mode": {
    "name": "ipython",
    "version": 3
   },
   "file_extension": ".py",
   "mimetype": "text/x-python",
   "name": "python",
   "nbconvert_exporter": "python",
   "pygments_lexer": "ipython3",
   "version": "3.11.1"
  }
 },
 "nbformat": 4,
 "nbformat_minor": 5
}
