{
 "cells": [
  {
   "cell_type": "code",
   "execution_count": 13,
   "id": "8001e04a-8fd7-477f-a0ca-6a837fe5251f",
   "metadata": {},
   "outputs": [],
   "source": [
    "import pandas as pd\n",
    "cars_ds = pd.read_csv('https://raw.githubusercontent.com/joestubbs/coe379L-sp24/master/datasets/unit01/project1.data')"
   ]
  },
  {
   "cell_type": "code",
   "execution_count": 14,
   "id": "91e17c6f-c9f2-4f52-a343-5c72958e41b3",
   "metadata": {},
   "outputs": [
    {
     "data": {
      "text/plain": [
       "(398, 9)"
      ]
     },
     "execution_count": 14,
     "metadata": {},
     "output_type": "execute_result"
    }
   ],
   "source": [
    "#Problem 1 Shape \n",
    "cars_ds.shape"
   ]
  },
  {
   "cell_type": "code",
   "execution_count": 15,
   "id": "0404c4ce-d7b8-425b-b9d4-36ca65fce2be",
   "metadata": {},
   "outputs": [
    {
     "data": {
      "text/plain": [
       "3582"
      ]
     },
     "execution_count": 15,
     "metadata": {},
     "output_type": "execute_result"
    }
   ],
   "source": [
    "##Problem 1 size\n",
    "cars_ds.size"
   ]
  },
  {
   "cell_type": "code",
   "execution_count": 16,
   "id": "6fb079f8-b1f9-4a59-b2e7-4d15865bb4e2",
   "metadata": {
    "scrolled": true
   },
   "outputs": [
    {
     "name": "stdout",
     "output_type": "stream",
     "text": [
      "<class 'pandas.core.frame.DataFrame'>\n",
      "RangeIndex: 398 entries, 0 to 397\n",
      "Data columns (total 9 columns):\n",
      " #   Column        Non-Null Count  Dtype  \n",
      "---  ------        --------------  -----  \n",
      " 0   mpg           398 non-null    float64\n",
      " 1   cylinders     398 non-null    int64  \n",
      " 2   displacement  398 non-null    float64\n",
      " 3   horsepower    398 non-null    object \n",
      " 4   weight        398 non-null    int64  \n",
      " 5   acceleration  398 non-null    float64\n",
      " 6   model_year    398 non-null    int64  \n",
      " 7   origin        398 non-null    int64  \n",
      " 8   car_name      398 non-null    object \n",
      "dtypes: float64(3), int64(4), object(2)\n",
      "memory usage: 28.1+ KB\n"
     ]
    }
   ],
   "source": [
    "cars_ds.info()"
   ]
  },
  {
   "cell_type": "code",
   "execution_count": 17,
   "id": "c2fa5e7d-ff98-4479-8db7-fe06c77529fb",
   "metadata": {},
   "outputs": [],
   "source": [
    "cars_ds['car_name'] = cars_ds['car_name'].astype('string')\n",
    "#Convert car names to strings"
   ]
  },
  {
   "cell_type": "code",
   "execution_count": 18,
   "id": "c61ba9d1-7104-4dfb-996c-9af8a1bbd283",
   "metadata": {},
   "outputs": [
    {
     "name": "stdout",
     "output_type": "stream",
     "text": [
      "<class 'pandas.core.frame.DataFrame'>\n",
      "RangeIndex: 398 entries, 0 to 397\n",
      "Data columns (total 9 columns):\n",
      " #   Column        Non-Null Count  Dtype  \n",
      "---  ------        --------------  -----  \n",
      " 0   mpg           398 non-null    float64\n",
      " 1   cylinders     398 non-null    int64  \n",
      " 2   displacement  398 non-null    float64\n",
      " 3   horsepower    398 non-null    object \n",
      " 4   weight        398 non-null    int64  \n",
      " 5   acceleration  398 non-null    float64\n",
      " 6   model_year    398 non-null    int64  \n",
      " 7   origin        398 non-null    int64  \n",
      " 8   car_name      398 non-null    string \n",
      "dtypes: float64(3), int64(4), object(1), string(1)\n",
      "memory usage: 28.1+ KB\n"
     ]
    }
   ],
   "source": [
    "cars_ds.info()"
   ]
  },
  {
   "cell_type": "code",
   "execution_count": 19,
   "id": "f2fefbcc-abe5-475d-9315-c10416eb2474",
   "metadata": {},
   "outputs": [
    {
     "data": {
      "text/plain": [
       "mpg             0\n",
       "cylinders       0\n",
       "displacement    0\n",
       "horsepower      0\n",
       "weight          0\n",
       "acceleration    0\n",
       "model_year      0\n",
       "origin          0\n",
       "car_name        0\n",
       "dtype: int64"
      ]
     },
     "execution_count": 19,
     "metadata": {},
     "output_type": "execute_result"
    }
   ],
   "source": [
    "#Problem 1 data missing?\n",
    "cars_ds.isnull().sum()\n",
    "#Nothing appears lets double check using unique"
   ]
  },
  {
   "cell_type": "code",
   "execution_count": 20,
   "id": "8cd0fbe8-0632-4011-bc28-8cea91818372",
   "metadata": {},
   "outputs": [
    {
     "data": {
      "text/plain": [
       "array(['130', '165', '150', '140', '198', '220', '215', '225', '190',\n",
       "       '170', '160', '95', '97', '85', '88', '46', '87', '90', '113',\n",
       "       '200', '210', '193', '?', '100', '105', '175', '153', '180', '110',\n",
       "       '72', '86', '70', '76', '65', '69', '60', '80', '54', '208', '155',\n",
       "       '112', '92', '145', '137', '158', '167', '94', '107', '230', '49',\n",
       "       '75', '91', '122', '67', '83', '78', '52', '61', '93', '148',\n",
       "       '129', '96', '71', '98', '115', '53', '81', '79', '120', '152',\n",
       "       '102', '108', '68', '58', '149', '89', '63', '48', '66', '139',\n",
       "       '103', '125', '133', '138', '135', '142', '77', '62', '132', '84',\n",
       "       '64', '74', '116', '82'], dtype=object)"
      ]
     },
     "execution_count": 20,
     "metadata": {},
     "output_type": "execute_result"
    }
   ],
   "source": [
    "cars_ds['horsepower'].unique()\n",
    "#We can see a ? representing null values"
   ]
  },
  {
   "cell_type": "code",
   "execution_count": 21,
   "id": "48087d77-7251-4fc9-8d1e-6ddf110b9d42",
   "metadata": {},
   "outputs": [
    {
     "data": {
      "text/html": [
       "<div>\n",
       "<style scoped>\n",
       "    .dataframe tbody tr th:only-of-type {\n",
       "        vertical-align: middle;\n",
       "    }\n",
       "\n",
       "    .dataframe tbody tr th {\n",
       "        vertical-align: top;\n",
       "    }\n",
       "\n",
       "    .dataframe thead th {\n",
       "        text-align: right;\n",
       "    }\n",
       "</style>\n",
       "<table border=\"1\" class=\"dataframe\">\n",
       "  <thead>\n",
       "    <tr style=\"text-align: right;\">\n",
       "      <th></th>\n",
       "      <th>mpg</th>\n",
       "      <th>cylinders</th>\n",
       "      <th>displacement</th>\n",
       "      <th>horsepower</th>\n",
       "      <th>weight</th>\n",
       "      <th>acceleration</th>\n",
       "      <th>model_year</th>\n",
       "      <th>origin</th>\n",
       "      <th>car_name</th>\n",
       "    </tr>\n",
       "  </thead>\n",
       "  <tbody>\n",
       "    <tr>\n",
       "      <th>32</th>\n",
       "      <td>25.0</td>\n",
       "      <td>4</td>\n",
       "      <td>98.0</td>\n",
       "      <td>?</td>\n",
       "      <td>2046</td>\n",
       "      <td>19.0</td>\n",
       "      <td>71</td>\n",
       "      <td>1</td>\n",
       "      <td>ford pinto</td>\n",
       "    </tr>\n",
       "    <tr>\n",
       "      <th>126</th>\n",
       "      <td>21.0</td>\n",
       "      <td>6</td>\n",
       "      <td>200.0</td>\n",
       "      <td>?</td>\n",
       "      <td>2875</td>\n",
       "      <td>17.0</td>\n",
       "      <td>74</td>\n",
       "      <td>1</td>\n",
       "      <td>ford maverick</td>\n",
       "    </tr>\n",
       "    <tr>\n",
       "      <th>330</th>\n",
       "      <td>40.9</td>\n",
       "      <td>4</td>\n",
       "      <td>85.0</td>\n",
       "      <td>?</td>\n",
       "      <td>1835</td>\n",
       "      <td>17.3</td>\n",
       "      <td>80</td>\n",
       "      <td>2</td>\n",
       "      <td>renault lecar deluxe</td>\n",
       "    </tr>\n",
       "    <tr>\n",
       "      <th>336</th>\n",
       "      <td>23.6</td>\n",
       "      <td>4</td>\n",
       "      <td>140.0</td>\n",
       "      <td>?</td>\n",
       "      <td>2905</td>\n",
       "      <td>14.3</td>\n",
       "      <td>80</td>\n",
       "      <td>1</td>\n",
       "      <td>ford mustang cobra</td>\n",
       "    </tr>\n",
       "    <tr>\n",
       "      <th>354</th>\n",
       "      <td>34.5</td>\n",
       "      <td>4</td>\n",
       "      <td>100.0</td>\n",
       "      <td>?</td>\n",
       "      <td>2320</td>\n",
       "      <td>15.8</td>\n",
       "      <td>81</td>\n",
       "      <td>2</td>\n",
       "      <td>renault 18i</td>\n",
       "    </tr>\n",
       "    <tr>\n",
       "      <th>374</th>\n",
       "      <td>23.0</td>\n",
       "      <td>4</td>\n",
       "      <td>151.0</td>\n",
       "      <td>?</td>\n",
       "      <td>3035</td>\n",
       "      <td>20.5</td>\n",
       "      <td>82</td>\n",
       "      <td>1</td>\n",
       "      <td>amc concord dl</td>\n",
       "    </tr>\n",
       "  </tbody>\n",
       "</table>\n",
       "</div>"
      ],
      "text/plain": [
       "      mpg  cylinders  displacement horsepower  weight  acceleration  \\\n",
       "32   25.0          4          98.0          ?    2046          19.0   \n",
       "126  21.0          6         200.0          ?    2875          17.0   \n",
       "330  40.9          4          85.0          ?    1835          17.3   \n",
       "336  23.6          4         140.0          ?    2905          14.3   \n",
       "354  34.5          4         100.0          ?    2320          15.8   \n",
       "374  23.0          4         151.0          ?    3035          20.5   \n",
       "\n",
       "     model_year  origin              car_name  \n",
       "32           71       1            ford pinto  \n",
       "126          74       1         ford maverick  \n",
       "330          80       2  renault lecar deluxe  \n",
       "336          80       1    ford mustang cobra  \n",
       "354          81       2           renault 18i  \n",
       "374          82       1        amc concord dl  "
      ]
     },
     "execution_count": 21,
     "metadata": {},
     "output_type": "execute_result"
    }
   ],
   "source": [
    "ind = cars_ds[cars_ds['horsepower'] == '?'].index\n",
    "cars_ds[cars_ds['horsepower'] == '?']\n",
    "#Get the data for these null values"
   ]
  },
  {
   "cell_type": "code",
   "execution_count": 22,
   "id": "10decf02-0dde-4241-97f7-5f3f67185709",
   "metadata": {},
   "outputs": [],
   "source": [
    "#Replacing the question marks with null values now\n",
    "import numpy as np\n",
    "cars_ds.replace('?', np.nan, inplace = True)"
   ]
  },
  {
   "cell_type": "code",
   "execution_count": 23,
   "id": "e4e53be6-632a-40d2-b370-eacee138885f",
   "metadata": {},
   "outputs": [
    {
     "data": {
      "text/plain": [
       "mpg             0\n",
       "cylinders       0\n",
       "displacement    0\n",
       "horsepower      6\n",
       "weight          0\n",
       "acceleration    0\n",
       "model_year      0\n",
       "origin          0\n",
       "car_name        0\n",
       "dtype: int64"
      ]
     },
     "execution_count": 23,
     "metadata": {},
     "output_type": "execute_result"
    }
   ],
   "source": [
    "#Check it worked and we see it does\n",
    "cars_ds.isnull().sum()"
   ]
  },
  {
   "cell_type": "code",
   "execution_count": 24,
   "id": "c826f13e-c4b9-41b1-ac97-4d6d0924121c",
   "metadata": {},
   "outputs": [],
   "source": [
    "#cast horsepower to numeric\n",
    "cars_ds['horsepower'] = pd.to_numeric(cars_ds['horsepower'])"
   ]
  },
  {
   "cell_type": "code",
   "execution_count": 25,
   "id": "c9ed07e7-92ca-41d2-9493-458d9b1873cf",
   "metadata": {},
   "outputs": [
    {
     "name": "stdout",
     "output_type": "stream",
     "text": [
      "<class 'pandas.core.frame.DataFrame'>\n",
      "RangeIndex: 398 entries, 0 to 397\n",
      "Data columns (total 9 columns):\n",
      " #   Column        Non-Null Count  Dtype  \n",
      "---  ------        --------------  -----  \n",
      " 0   mpg           398 non-null    float64\n",
      " 1   cylinders     398 non-null    int64  \n",
      " 2   displacement  398 non-null    float64\n",
      " 3   horsepower    392 non-null    float64\n",
      " 4   weight        398 non-null    int64  \n",
      " 5   acceleration  398 non-null    float64\n",
      " 6   model_year    398 non-null    int64  \n",
      " 7   origin        398 non-null    int64  \n",
      " 8   car_name      398 non-null    string \n",
      "dtypes: float64(4), int64(4), string(1)\n",
      "memory usage: 28.1 KB\n"
     ]
    }
   ],
   "source": [
    "#horsepower column is now numeric\n",
    "cars_ds.info()"
   ]
  },
  {
   "cell_type": "code",
   "execution_count": 26,
   "id": "26001efe-0ca2-45ef-94e1-d14bf5f13efc",
   "metadata": {},
   "outputs": [
    {
     "name": "stderr",
     "output_type": "stream",
     "text": [
      "/tmp/ipykernel_2842/573495210.py:2: FutureWarning: A value is trying to be set on a copy of a DataFrame or Series through chained assignment using an inplace method.\n",
      "The behavior will change in pandas 3.0. This inplace method will never work because the intermediate object on which we are setting values always behaves as a copy.\n",
      "\n",
      "For example, when doing 'df[col].method(value, inplace=True)', try using 'df.method({col: value}, inplace=True)' or df[col] = df[col].method(value) instead, to perform the operation inplace on the original object.\n",
      "\n",
      "\n",
      "  cars_ds['horsepower'].fillna(cars_ds['horsepower'].mean() ,inplace = True)\n"
     ]
    }
   ],
   "source": [
    "#replace null values with mean\n",
    "cars_ds['horsepower'].fillna(cars_ds['horsepower'].mean() ,inplace = True)"
   ]
  },
  {
   "cell_type": "code",
   "execution_count": 27,
   "id": "ac405164-a291-4605-b07e-da78699a9d81",
   "metadata": {},
   "outputs": [
    {
     "name": "stdout",
     "output_type": "stream",
     "text": [
      "32    104.469388\n",
      "Name: horsepower, dtype: float64\n",
      "126    104.469388\n",
      "Name: horsepower, dtype: float64\n",
      "330    104.469388\n",
      "Name: horsepower, dtype: float64\n",
      "336    104.469388\n",
      "Name: horsepower, dtype: float64\n",
      "354    104.469388\n",
      "Name: horsepower, dtype: float64\n",
      "374    104.469388\n",
      "Name: horsepower, dtype: float64\n"
     ]
    }
   ],
   "source": [
    "#Lets check that one of the nan indices from [87] are now corrected and as we see they are\n",
    "for i in ind:\n",
    "    print(cars_ds[cars_ds.index == i][\"horsepower\"])"
   ]
  },
  {
   "cell_type": "code",
   "execution_count": 28,
   "id": "c2e3da63-7658-4495-9457-c5fbf0e49c6f",
   "metadata": {},
   "outputs": [
    {
     "data": {
      "text/plain": [
       "0"
      ]
     },
     "execution_count": 28,
     "metadata": {},
     "output_type": "execute_result"
    }
   ],
   "source": [
    "#Lets also check duplicated values\n",
    "cars_ds.duplicated().sum()"
   ]
  },
  {
   "cell_type": "code",
   "execution_count": 29,
   "id": "30ba1607-1554-4591-ba0a-c52511c4546d",
   "metadata": {},
   "outputs": [
    {
     "data": {
      "text/plain": [
       "<Axes: xlabel='mpg', ylabel='Count'>"
      ]
     },
     "execution_count": 29,
     "metadata": {},
     "output_type": "execute_result"
    },
    {
     "data": {
      "image/png": "[encoded data removed]",
      "text/plain": [
       "<Figure size 640x480 with 1 Axes>"
      ]
     },
     "metadata": {},
     "output_type": "display_data"
    }
   ],
   "source": [
    "import seaborn as sns\n",
    "import matplotlib.pyplot as plt \n",
    "#fun little plot \n",
    "sns.histplot(data=cars_ds['mpg'], bins=10)\n"
   ]
  },
  {
   "cell_type": "code",
   "execution_count": 30,
   "id": "2bea666e-2100-4f50-93a2-73d1d4426514",
   "metadata": {},
   "outputs": [
    {
     "data": {
      "image/png": "[encoded data removed]",
      "text/plain": [
       "<Figure size 1500x700 with 2 Axes>"
      ]
     },
     "metadata": {},
     "output_type": "display_data"
    }
   ],
   "source": [
    "#Finding correlations between the columns\n",
    "# columns to correlate\n",
    "corr_cols=['mpg','horsepower','weight', 'acceleration','cylinders']\n",
    "\n",
    "# increate the figure size\n",
    "plt.figure(figsize=(15, 7))\n",
    "\n",
    "# the actual heat map\n",
    "sns.heatmap(\n",
    "   cars_ds[corr_cols].corr(), annot=True, vmin=-1, vmax=1, fmt=\".2f\", cmap=\"Spectral\"\n",
    ")\n",
    "\n",
    "# show the plot\n",
    "plt.show()\n",
    "\n",
    "#choosing the variables 'horsepower','weight', 'acceleration', and 'cylinders' as they all contribute to the mpg"
   ]
  },
  {
   "cell_type": "code",
   "execution_count": 31,
   "id": "2b135c10-b285-4b5b-8edb-8dc4c49a7038",
   "metadata": {},
   "outputs": [],
   "source": [
    "#Now to fit a model\n",
    "import sklearn \n",
    "from sklearn.model_selection import train_test_split\n",
    "#drop none numeric columns that only serve to label the data X = 'horsepower','weight', 'acceleration', and 'cylinders'\n",
    "X = cars_ds.drop(['model_year', 'origin', 'car_name'], axis = 1)\n",
    "y = cars_ds['mpg']\n",
    "X_train, X_test, y_train, y_test = train_test_split(X, y, test_size=0.3, random_state=1)"
   ]
  },
  {
   "cell_type": "code",
   "execution_count": 32,
   "id": "2675adaa-ae2f-4976-9ade-c35f8547706b",
   "metadata": {},
   "outputs": [
    {
     "data": {
      "text/html": [
       "<style>#sk-container-id-1 {color: black;}#sk-container-id-1 pre{padding: 0;}#sk-container-id-1 div.sk-toggleable {background-color: white;}#sk-container-id-1 label.sk-toggleable__label {cursor: pointer;display: block;width: 100%;margin-bottom: 0;padding: 0.3em;box-sizing: border-box;text-align: center;}#sk-container-id-1 label.sk-toggleable__label-arrow:before {content: \"▸\";float: left;margin-right: 0.25em;color: #696969;}#sk-container-id-1 label.sk-toggleable__label-arrow:hover:before {color: black;}#sk-container-id-1 div.sk-estimator:hover label.sk-toggleable__label-arrow:before {color: black;}#sk-container-id-1 div.sk-toggleable__content {max-height: 0;max-width: 0;overflow: hidden;text-align: left;background-color: #f0f8ff;}#sk-container-id-1 div.sk-toggleable__content pre {margin: 0.2em;color: black;border-radius: 0.25em;background-color: #f0f8ff;}#sk-container-id-1 input.sk-toggleable__control:checked~div.sk-toggleable__content {max-height: 200px;max-width: 100%;overflow: auto;}#sk-container-id-1 input.sk-toggleable__control:checked~label.sk-toggleable__label-arrow:before {content: \"▾\";}#sk-container-id-1 div.sk-estimator input.sk-toggleable__control:checked~label.sk-toggleable__label {background-color: #d4ebff;}#sk-container-id-1 div.sk-label input.sk-toggleable__control:checked~label.sk-toggleable__label {background-color: #d4ebff;}#sk-container-id-1 input.sk-hidden--visually {border: 0;clip: rect(1px 1px 1px 1px);clip: rect(1px, 1px, 1px, 1px);height: 1px;margin: -1px;overflow: hidden;padding: 0;position: absolute;width: 1px;}#sk-container-id-1 div.sk-estimator {font-family: monospace;background-color: #f0f8ff;border: 1px dotted black;border-radius: 0.25em;box-sizing: border-box;margin-bottom: 0.5em;}#sk-container-id-1 div.sk-estimator:hover {background-color: #d4ebff;}#sk-container-id-1 div.sk-parallel-item::after {content: \"\";width: 100%;border-bottom: 1px solid gray;flex-grow: 1;}#sk-container-id-1 div.sk-label:hover label.sk-toggleable__label {background-color: #d4ebff;}#sk-container-id-1 div.sk-serial::before {content: \"\";position: absolute;border-left: 1px solid gray;box-sizing: border-box;top: 0;bottom: 0;left: 50%;z-index: 0;}#sk-container-id-1 div.sk-serial {display: flex;flex-direction: column;align-items: center;background-color: white;padding-right: 0.2em;padding-left: 0.2em;position: relative;}#sk-container-id-1 div.sk-item {position: relative;z-index: 1;}#sk-container-id-1 div.sk-parallel {display: flex;align-items: stretch;justify-content: center;background-color: white;position: relative;}#sk-container-id-1 div.sk-item::before, #sk-container-id-1 div.sk-parallel-item::before {content: \"\";position: absolute;border-left: 1px solid gray;box-sizing: border-box;top: 0;bottom: 0;left: 50%;z-index: -1;}#sk-container-id-1 div.sk-parallel-item {display: flex;flex-direction: column;z-index: 1;position: relative;background-color: white;}#sk-container-id-1 div.sk-parallel-item:first-child::after {align-self: flex-end;width: 50%;}#sk-container-id-1 div.sk-parallel-item:last-child::after {align-self: flex-start;width: 50%;}#sk-container-id-1 div.sk-parallel-item:only-child::after {width: 0;}#sk-container-id-1 div.sk-dashed-wrapped {border: 1px dashed gray;margin: 0 0.4em 0.5em 0.4em;box-sizing: border-box;padding-bottom: 0.4em;background-color: white;}#sk-container-id-1 div.sk-label label {font-family: monospace;font-weight: bold;display: inline-block;line-height: 1.2em;}#sk-container-id-1 div.sk-label-container {text-align: center;}#sk-container-id-1 div.sk-container {/* jupyter's `normalize.less` sets `[hidden] { display: none; }` but bootstrap.min.css set `[hidden] { display: none !important; }` so we also need the `!important` here to be able to override the default hidden behavior on the sphinx rendered scikit-learn.org. See: https://github.com/scikit-learn/scikit-learn/issues/21755 */display: inline-block !important;position: relative;}#sk-container-id-1 div.sk-text-repr-fallback {display: none;}</style><div id=\"sk-container-id-1\" class=\"sk-top-container\"><div class=\"sk-text-repr-fallback\"><pre>LinearRegression()</pre><b>In a Jupyter environment, please rerun this cell to show the HTML representation or trust the notebook. <br />On GitHub, the HTML representation is unable to render, please try loading this page with nbviewer.org.</b></div><div class=\"sk-container\" hidden><div class=\"sk-item\"><div class=\"sk-estimator sk-toggleable\"><input class=\"sk-toggleable__control sk-hidden--visually\" id=\"sk-estimator-id-1\" type=\"checkbox\" checked><label for=\"sk-estimator-id-1\" class=\"sk-toggleable__label sk-toggleable__label-arrow\">LinearRegression</label><div class=\"sk-toggleable__content\"><pre>LinearRegression()</pre></div></div></div></div></div>"
      ],
      "text/plain": [
       "LinearRegression()"
      ]
     },
     "execution_count": 32,
     "metadata": {},
     "output_type": "execute_result"
    }
   ],
   "source": [
    "#fit the linear model\n",
    "from sklearn.linear_model import LinearRegression\n",
    "cars_lr = LinearRegression()\n",
    "cars_lr.fit(X_train, y_train)"
   ]
  },
  {
   "cell_type": "code",
   "execution_count": 33,
   "id": "80123596-7a29-4fb7-90b3-d1a68cb84ae8",
   "metadata": {},
   "outputs": [
    {
     "data": {
      "text/plain": [
       "array([18. , 28.1, 19.4, 20.3, 20.2, 16. , 29. , 37.7, 15.5, 12. , 29. ,\n",
       "       17. , 18.1, 21.5, 39.1, 22. , 15. , 20. , 12. , 31.8, 24. , 29. ,\n",
       "       21. , 27. , 24.3, 26. , 32.4, 32.8, 17. , 26. , 25. , 14. , 21. ,\n",
       "       27.5, 24.5, 13. , 26. , 12. , 32. , 25. , 25. , 25.5, 17.6, 33. ,\n",
       "       26.8, 20.6, 18.5, 13. , 29. , 18.5, 27. , 27.9, 13. , 13. , 33.5,\n",
       "       28. , 11. , 14. , 32. , 38. , 36. , 32. , 17.5, 23.5, 18.5, 41.5,\n",
       "       28.8, 20.2, 27.2, 14. , 16.5, 22. , 14. , 27.4, 14. , 28. , 36.4,\n",
       "       15.5, 14. , 26. , 23. , 14. , 37. , 21. , 32.3, 16.5, 15. , 19.4,\n",
       "       29.8, 34.5, 15.5, 19. , 20. , 27.2, 29. , 18. , 33.8, 25. , 23. ,\n",
       "       17.6, 22. , 11. , 15. , 38.1, 13. , 19.9, 32.1, 24. , 30.7, 13. ,\n",
       "       16. , 37. , 23.7, 18. , 20. , 34. , 14. , 24. , 23.2, 39.4])"
      ]
     },
     "execution_count": 33,
     "metadata": {},
     "output_type": "execute_result"
    }
   ],
   "source": [
    "cars_lr.predict(X_test)"
   ]
  },
  {
   "cell_type": "code",
   "execution_count": 34,
   "id": "67163d13-663a-43ae-8fbd-a555887094e2",
   "metadata": {},
   "outputs": [
    {
     "name": "stdout",
     "output_type": "stream",
     "text": [
      "1.0 1.0\n"
     ]
    }
   ],
   "source": [
    "atest = cars_lr.score(X_test, y_test)\n",
    "# Check accuracy on the training data\n",
    "atrain = cars_lr.score(X_train,y_train)\n",
    "print(str(atest) + ' ' + str(atrain))"
   ]
  },
  {
   "cell_type": "code",
   "execution_count": 35,
   "id": "cdd4bf0c-e9b6-4391-b031-ac0f9eda0667",
   "metadata": {},
   "outputs": [
    {
     "name": "stdout",
     "output_type": "stream",
     "text": [
      "      mpg  cylinders  displacement  horsepower  weight  acceleration\n",
      "174  18.0          6         171.0        97.0    2984          14.5\n",
      "359  28.1          4         141.0        80.0    3230          20.4\n",
      "250  19.4          8         318.0       140.0    3735          13.2\n",
      "274  20.3          5         131.0       103.0    2830          15.9\n",
      "283  20.2          6         232.0        90.0    3265          18.2\n",
      "..    ...        ...           ...         ...     ...           ...\n",
      "382  34.0          4         108.0        70.0    2245          16.9\n",
      "39   14.0          8         400.0       175.0    4464          11.5\n",
      "171  24.0          4         134.0        96.0    2702          13.5\n",
      "271  23.2          4         156.0       105.0    2745          16.7\n",
      "247  39.4          4          85.0        70.0    2070          18.6\n",
      "\n",
      "[120 rows x 6 columns]\n"
     ]
    }
   ],
   "source": [
    "#As we can see the above scores are 100% accuracy which is correct if we compare\n",
    "print(X_test)"
   ]
  },
  {
   "cell_type": "code",
   "execution_count": null,
   "id": "4562f9d3-97ab-49a4-a36b-d6ce83af9853",
   "metadata": {},
   "outputs": [],
   "source": [
    "#Which of the above measures is more relevant for this problem statement?\n",
    "#The step in which we calculated accuracy wasn't necessarily important as accuracy is more \n",
    "#often than not associated with classification models\n",
    "#For linear regression using some other metric for accuracy such as mean squared error would be better."
   ]
  }
 ],
 "metadata": {
  "kernelspec": {
   "display_name": "Python 3 (ipykernel)",
   "language": "python",
   "name": "python3"
  },
  "language_info": {
   "codemirror_mode": {
    "name": "ipython",
    "version": 3
   },
   "file_extension": ".py",
   "mimetype": "text/x-python",
   "name": "python",
   "nbconvert_exporter": "python",
   "pygments_lexer": "ipython3",
   "version": "3.11.1"
  }
 },
 "nbformat": 4,
 "nbformat_minor": 5
}
