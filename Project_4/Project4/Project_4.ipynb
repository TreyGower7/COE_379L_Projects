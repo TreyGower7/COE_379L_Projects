{
 "cells": [
  {
   "cell_type": "code",
   "execution_count": 1,
   "id": "c76e446e-d7c1-4df6-ad05-6b97d825ee14",
   "metadata": {},
   "outputs": [
    {
     "name": "stderr",
     "output_type": "stream",
     "text": [
      "/tmp/ipykernel_39/2039260541.py:12: DeprecationWarning: \n",
      "Pyarrow will become a required dependency of pandas in the next major release of pandas (pandas 3.0),\n",
      "(to allow more performant data types, such as the Arrow string type, and better interoperability with other libraries)\n",
      "but was not found to be installed on your system.\n",
      "If this would cause problems for you,\n",
      "please provide us feedback at https://github.com/pandas-dev/pandas/issues/54466\n",
      "        \n",
      "  import pandas as pd\n",
      "2024-04-30 21:18:12.079097: I external/local_tsl/tsl/cuda/cudart_stub.cc:31] Could not find cuda drivers on your machine, GPU will not be used.\n",
      "2024-04-30 21:18:12.130904: E external/local_xla/xla/stream_executor/cuda/cuda_dnn.cc:9261] Unable to register cuDNN factory: Attempting to register factory for plugin cuDNN when one has already been registered\n",
      "2024-04-30 21:18:12.130942: E external/local_xla/xla/stream_executor/cuda/cuda_fft.cc:607] Unable to register cuFFT factory: Attempting to register factory for plugin cuFFT when one has already been registered\n",
      "2024-04-30 21:18:12.133948: E external/local_xla/xla/stream_executor/cuda/cuda_blas.cc:1515] Unable to register cuBLAS factory: Attempting to register factory for plugin cuBLAS when one has already been registered\n",
      "2024-04-30 21:18:12.146786: I external/local_tsl/tsl/cuda/cudart_stub.cc:31] Could not find cuda drivers on your machine, GPU will not be used.\n",
      "2024-04-30 21:18:12.148098: I tensorflow/core/platform/cpu_feature_guard.cc:182] This TensorFlow binary is optimized to use available CPU instructions in performance-critical operations.\n",
      "To enable the following instructions: AVX2 FMA, in other operations, rebuild TensorFlow with the appropriate compiler flags.\n",
      "2024-04-30 21:18:17.213425: W tensorflow/compiler/tf2tensorrt/utils/py_utils.cc:38] TF-TRT Warning: Could not find TensorRT\n"
     ]
    }
   ],
   "source": [
    "#imports\n",
    "#Data Prep Stage\n",
    "import numpy as np\n",
    "import shutil\n",
    "#create directories for each class in the train and test directories.\n",
    "import os\n",
    "# ensure directories exist\n",
    "from pathlib import Path\n",
    "import random\n",
    "#Train preprocessing\n",
    "#Getting the data sets\n",
    "import pandas as pd\n",
    "import tensorflow as tf\n",
    "from tensorflow.keras.preprocessing.image import ImageDataGenerator\n",
    "from tensorflow.keras.models import Sequential\n",
    "from tensorflow.keras.layers import Conv2D, MaxPooling2D, Flatten, Dense"
   ]
  },
  {
   "cell_type": "code",
   "execution_count": null,
   "id": "2b21f662-c74d-4f75-8e65-49a2e730cd0e",
   "metadata": {},
   "outputs": [],
   "source": [
    "# Load data\n",
    "train_datagen = ImageDataGenerator(rescale=1./255, validation_split=0.2)\n",
    "test_datagen = ImageDataGenerator(rescale=1./255)"
   ]
  },
  {
   "cell_type": "code",
   "execution_count": null,
   "id": "ef408a9b-8f59-498f-9973-995365244ed4",
   "metadata": {},
   "outputs": [],
   "source": [
    "#Generating training data \n",
    "train_generator = train_datagen.flow_from_directory(\n",
    "    'path/to/train/directory',\n",
    "    target_size=(150, 150),\n",
    "    batch_size=20,\n",
    "    class_mode='categorical',\n",
    "    subset='training'\n",
    ")"
   ]
  },
  {
   "cell_type": "code",
   "execution_count": null,
   "id": "18d27270-9b8c-42ee-8da9-c39d91aab235",
   "metadata": {},
   "outputs": [],
   "source": [
    "#Loads Validating images, resizes, and returns one hot encoded labels\n",
    "validation_generator = train_datagen.flow_from_directory(\n",
    "    'path/to/train/directory',\n",
    "    target_size=(150, 150),\n",
    "    batch_size=20,\n",
    "    class_mode='categorical',\n",
    "    subset='validation'\n",
    ")"
   ]
  },
  {
   "cell_type": "code",
   "execution_count": null,
   "id": "d255a205-273a-4291-bf8e-3b9c9d88081d",
   "metadata": {},
   "outputs": [],
   "source": [
    "#Generating test data\n",
    "test_generator = test_datagen.flow_from_directory(\n",
    "    'path/to/test/directory',\n",
    "    target_size=(150, 150),\n",
    "    batch_size=20,\n",
    "    class_mode='categorical'\n",
    ")"
   ]
  },
  {
   "cell_type": "code",
   "execution_count": null,
   "id": "6527bbaf-3db5-4ace-9de3-cb6025d21aca",
   "metadata": {},
   "outputs": [],
   "source": [
    "#Model ResNets\n",
    "\n",
    "ResNets = models.Sequential()\n",
    "\n",
    "# Layer 1: Convolutional layer with 6 filters of size 3x3, followed by average pooling\n",
    "ResNets.add(layers.Conv2D(6, kernel_size=(3, 3), activation='relu', input_shape=(150,150,3)))\n",
    "ResNets.add(layers.AveragePooling2D(pool_size=(2, 2)))\n",
    "\n",
    "# Layer 2: Convolutional layer with 16 filters of size 3x3, followed by average pooling\n",
    "ResNets.add(layers.Conv2D(16, kernel_size=(3, 3), activation='relu'))\n",
    "ResNets.add(layers.AveragePooling2D(pool_size=(2, 2)))\n",
    "\n",
    "# Flatten the feature maps to feed into fully connected layers\n",
    "ResNets.add(layers.Flatten())\n",
    "\n",
    "\n",
    "# Layer 3: Fully connected layer with 120 neurons\n",
    "ResNets.add(layers.Dense(120, activation='relu'))\n",
    "\n",
    "# Layer 4: Fully connected layer with 84 neurons\n",
    "ResNets.add(layers.Dense(84, activation='relu'))\n",
    "\n",
    "# Output layer: Fully connected layer with num_classes neurons (e.g., 3 )\n",
    "ResNets.add(layers.Dense(2, activation='softmax'))\n",
    "\n",
    "# Compile model\n",
    "ResNets.compile(optimizer=optimizers.RMSprop(learning_rate=1e-4), loss='sparse_categorical_crossentropy', metrics=['accuracy'])\n",
    "\n",
    "# Generating the summary of the model\n",
    "ResNets.summary()"
   ]
  },
  {
   "cell_type": "code",
   "execution_count": null,
   "id": "0f6e1719-4d6b-4aaf-8179-9f991c334e80",
   "metadata": {},
   "outputs": [],
   "source": [
    "#fit the model from image generator\n",
    "history = ResNets.fit(\n",
    "            train_rescale_ds,\n",
    "            batch_size=32,\n",
    "            epochs=10,\n",
    "            validation_data=val_rescale_ds\n",
    ")"
   ]
  },
  {
   "cell_type": "code",
   "execution_count": null,
   "id": "545691c9-13ed-44b2-a7a9-d22aadc6ad0c",
   "metadata": {},
   "outputs": [],
   "source": [
    "#Model VGGNet 16"
   ]
  },
  {
   "cell_type": "code",
   "execution_count": null,
   "id": "56c7adec-2c07-4b6c-9b16-3991d9bd848f",
   "metadata": {},
   "outputs": [],
   "source": [
    "#Model AlexNet"
   ]
  }
 ],
 "metadata": {
  "kernelspec": {
   "display_name": "Python 3 (ipykernel)",
   "language": "python",
   "name": "python3"
  },
  "language_info": {
   "codemirror_mode": {
    "name": "ipython",
    "version": 3
   },
   "file_extension": ".py",
   "mimetype": "text/x-python",
   "name": "python",
   "nbconvert_exporter": "python",
   "pygments_lexer": "ipython3",
   "version": "3.11.1"
  }
 },
 "nbformat": 4,
 "nbformat_minor": 5
}
